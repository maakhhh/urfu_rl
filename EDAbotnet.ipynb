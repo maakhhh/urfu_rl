{
  "nbformat": 4,
  "nbformat_minor": 0,
  "metadata": {
    "colab": {
      "provenance": []
    },
    "kernelspec": {
      "name": "python3",
      "display_name": "Python 3"
    },
    "language_info": {
      "name": "python"
    }
  },
  "cells": [
    {
      "cell_type": "code",
      "execution_count": 38,
      "metadata": {
        "id": "iQdwMNP-gn8k"
      },
      "outputs": [],
      "source": [
        "import pandas as pd\n",
        "import numpy as np\n",
        "import seaborn as sns\n",
        "import matplotlib\n",
        "import matplotlib.pyplot as plt\n",
        "\n",
        "attack_data = pd.read_csv(\"BotnetAttack.csv\")\n",
        "normal_data = pd.read_csv(\"BotnetNormal.csv\")"
      ]
    },
    {
      "cell_type": "code",
      "source": [
        "attack_data.describe()"
      ],
      "metadata": {
        "colab": {
          "base_uri": "https://localhost:8080/",
          "height": 337
        },
        "id": "y8CzJdehl61o",
        "outputId": "17622185-02fd-495d-e163-febae145539d"
      },
      "execution_count": 3,
      "outputs": [
        {
          "output_type": "execute_result",
          "data": {
            "text/plain": [
              "       Flow Duration  Tot Fwd Pkts   Tot Bwd Pkts  TotLen Fwd Pkts  \\\n",
              "count   34441.000000  34441.000000   34441.000000     3.444100e+04   \n",
              "mean        1.605544     18.747104      12.736361     2.406534e+03   \n",
              "std        36.584979    562.384835     931.799085     1.418691e+05   \n",
              "min         0.000000      1.000000       0.000000     2.800000e+01   \n",
              "25%         0.002010      6.000000       0.000000     2.880000e+02   \n",
              "50%         0.002565      6.000000       0.000000     2.880000e+02   \n",
              "75%         0.004124      6.000000       0.000000     2.880000e+02   \n",
              "max      2377.843369  74205.000000  161214.000000     1.754294e+07   \n",
              "\n",
              "       TotLen Bwd Pkts  Fwd Pkt Len Max  Fwd Pkt Len Min  Bwd Pkt Len Max  \\\n",
              "count     3.444100e+04     34441.000000     34441.000000     34441.000000   \n",
              "mean      5.870137e+03        53.106704        48.626492        31.737435   \n",
              "std       5.289739e+05        58.152262         9.524166       260.629587   \n",
              "min       0.000000e+00        28.000000        28.000000         0.000000   \n",
              "25%       0.000000e+00        48.000000        48.000000         0.000000   \n",
              "50%       0.000000e+00        48.000000        48.000000         0.000000   \n",
              "75%       0.000000e+00        48.000000        48.000000         0.000000   \n",
              "max       9.272950e+07      1500.000000      1024.000000     10260.000000   \n",
              "\n",
              "       Bwd Pkt Len Min   Flow Byts/s   Flow Pkts/s    Fwd Pkts/s  \\\n",
              "count     34441.000000  3.444100e+04  34441.000000  34441.000000   \n",
              "mean         16.392526  1.164141e+05   2381.494294   2221.915544   \n",
              "std          46.470115  1.167791e+05   1899.788087   1566.985103   \n",
              "min           0.000000  0.000000e+00      0.000000      0.000000   \n",
              "25%           0.000000  6.387941e+04   1268.310856   1200.487716   \n",
              "50%           0.000000  1.083275e+05   2195.587507   2079.304635   \n",
              "75%           0.000000  1.431571e+05   2979.967318   2966.968168   \n",
              "max         530.000000  8.158557e+06  27633.061647  19821.852552   \n",
              "\n",
              "         Bwd Pkts/s   Pkt Len Min   Pkt Len Max  Pkt Size Avg  Malware  \n",
              "count  34441.000000  34441.000000  34441.000000  34441.000000  34441.0  \n",
              "mean     159.578750     48.103772     71.612003     52.669756      1.0  \n",
              "std      592.383161      8.679630    257.957601     28.912662      0.0  \n",
              "min        0.000000     28.000000     28.000000     28.000000      1.0  \n",
              "25%        0.000000     48.000000     48.000000     48.000000      1.0  \n",
              "50%        0.000000     48.000000     48.000000     48.000000      1.0  \n",
              "75%        0.000000     48.000000     48.000000     48.000000      1.0  \n",
              "max    11842.740706   1024.000000  10260.000000   1024.000000      1.0  "
            ],
            "text/html": [
              "\n",
              "  <div id=\"df-6e3ea256-e5d4-4265-ae47-f5389e9c9187\" class=\"colab-df-container\">\n",
              "    <div>\n",
              "<style scoped>\n",
              "    .dataframe tbody tr th:only-of-type {\n",
              "        vertical-align: middle;\n",
              "    }\n",
              "\n",
              "    .dataframe tbody tr th {\n",
              "        vertical-align: top;\n",
              "    }\n",
              "\n",
              "    .dataframe thead th {\n",
              "        text-align: right;\n",
              "    }\n",
              "</style>\n",
              "<table border=\"1\" class=\"dataframe\">\n",
              "  <thead>\n",
              "    <tr style=\"text-align: right;\">\n",
              "      <th></th>\n",
              "      <th>Flow Duration</th>\n",
              "      <th>Tot Fwd Pkts</th>\n",
              "      <th>Tot Bwd Pkts</th>\n",
              "      <th>TotLen Fwd Pkts</th>\n",
              "      <th>TotLen Bwd Pkts</th>\n",
              "      <th>Fwd Pkt Len Max</th>\n",
              "      <th>Fwd Pkt Len Min</th>\n",
              "      <th>Bwd Pkt Len Max</th>\n",
              "      <th>Bwd Pkt Len Min</th>\n",
              "      <th>Flow Byts/s</th>\n",
              "      <th>Flow Pkts/s</th>\n",
              "      <th>Fwd Pkts/s</th>\n",
              "      <th>Bwd Pkts/s</th>\n",
              "      <th>Pkt Len Min</th>\n",
              "      <th>Pkt Len Max</th>\n",
              "      <th>Pkt Size Avg</th>\n",
              "      <th>Malware</th>\n",
              "    </tr>\n",
              "  </thead>\n",
              "  <tbody>\n",
              "    <tr>\n",
              "      <th>count</th>\n",
              "      <td>34441.000000</td>\n",
              "      <td>34441.000000</td>\n",
              "      <td>34441.000000</td>\n",
              "      <td>3.444100e+04</td>\n",
              "      <td>3.444100e+04</td>\n",
              "      <td>34441.000000</td>\n",
              "      <td>34441.000000</td>\n",
              "      <td>34441.000000</td>\n",
              "      <td>34441.000000</td>\n",
              "      <td>3.444100e+04</td>\n",
              "      <td>34441.000000</td>\n",
              "      <td>34441.000000</td>\n",
              "      <td>34441.000000</td>\n",
              "      <td>34441.000000</td>\n",
              "      <td>34441.000000</td>\n",
              "      <td>34441.000000</td>\n",
              "      <td>34441.0</td>\n",
              "    </tr>\n",
              "    <tr>\n",
              "      <th>mean</th>\n",
              "      <td>1.605544</td>\n",
              "      <td>18.747104</td>\n",
              "      <td>12.736361</td>\n",
              "      <td>2.406534e+03</td>\n",
              "      <td>5.870137e+03</td>\n",
              "      <td>53.106704</td>\n",
              "      <td>48.626492</td>\n",
              "      <td>31.737435</td>\n",
              "      <td>16.392526</td>\n",
              "      <td>1.164141e+05</td>\n",
              "      <td>2381.494294</td>\n",
              "      <td>2221.915544</td>\n",
              "      <td>159.578750</td>\n",
              "      <td>48.103772</td>\n",
              "      <td>71.612003</td>\n",
              "      <td>52.669756</td>\n",
              "      <td>1.0</td>\n",
              "    </tr>\n",
              "    <tr>\n",
              "      <th>std</th>\n",
              "      <td>36.584979</td>\n",
              "      <td>562.384835</td>\n",
              "      <td>931.799085</td>\n",
              "      <td>1.418691e+05</td>\n",
              "      <td>5.289739e+05</td>\n",
              "      <td>58.152262</td>\n",
              "      <td>9.524166</td>\n",
              "      <td>260.629587</td>\n",
              "      <td>46.470115</td>\n",
              "      <td>1.167791e+05</td>\n",
              "      <td>1899.788087</td>\n",
              "      <td>1566.985103</td>\n",
              "      <td>592.383161</td>\n",
              "      <td>8.679630</td>\n",
              "      <td>257.957601</td>\n",
              "      <td>28.912662</td>\n",
              "      <td>0.0</td>\n",
              "    </tr>\n",
              "    <tr>\n",
              "      <th>min</th>\n",
              "      <td>0.000000</td>\n",
              "      <td>1.000000</td>\n",
              "      <td>0.000000</td>\n",
              "      <td>2.800000e+01</td>\n",
              "      <td>0.000000e+00</td>\n",
              "      <td>28.000000</td>\n",
              "      <td>28.000000</td>\n",
              "      <td>0.000000</td>\n",
              "      <td>0.000000</td>\n",
              "      <td>0.000000e+00</td>\n",
              "      <td>0.000000</td>\n",
              "      <td>0.000000</td>\n",
              "      <td>0.000000</td>\n",
              "      <td>28.000000</td>\n",
              "      <td>28.000000</td>\n",
              "      <td>28.000000</td>\n",
              "      <td>1.0</td>\n",
              "    </tr>\n",
              "    <tr>\n",
              "      <th>25%</th>\n",
              "      <td>0.002010</td>\n",
              "      <td>6.000000</td>\n",
              "      <td>0.000000</td>\n",
              "      <td>2.880000e+02</td>\n",
              "      <td>0.000000e+00</td>\n",
              "      <td>48.000000</td>\n",
              "      <td>48.000000</td>\n",
              "      <td>0.000000</td>\n",
              "      <td>0.000000</td>\n",
              "      <td>6.387941e+04</td>\n",
              "      <td>1268.310856</td>\n",
              "      <td>1200.487716</td>\n",
              "      <td>0.000000</td>\n",
              "      <td>48.000000</td>\n",
              "      <td>48.000000</td>\n",
              "      <td>48.000000</td>\n",
              "      <td>1.0</td>\n",
              "    </tr>\n",
              "    <tr>\n",
              "      <th>50%</th>\n",
              "      <td>0.002565</td>\n",
              "      <td>6.000000</td>\n",
              "      <td>0.000000</td>\n",
              "      <td>2.880000e+02</td>\n",
              "      <td>0.000000e+00</td>\n",
              "      <td>48.000000</td>\n",
              "      <td>48.000000</td>\n",
              "      <td>0.000000</td>\n",
              "      <td>0.000000</td>\n",
              "      <td>1.083275e+05</td>\n",
              "      <td>2195.587507</td>\n",
              "      <td>2079.304635</td>\n",
              "      <td>0.000000</td>\n",
              "      <td>48.000000</td>\n",
              "      <td>48.000000</td>\n",
              "      <td>48.000000</td>\n",
              "      <td>1.0</td>\n",
              "    </tr>\n",
              "    <tr>\n",
              "      <th>75%</th>\n",
              "      <td>0.004124</td>\n",
              "      <td>6.000000</td>\n",
              "      <td>0.000000</td>\n",
              "      <td>2.880000e+02</td>\n",
              "      <td>0.000000e+00</td>\n",
              "      <td>48.000000</td>\n",
              "      <td>48.000000</td>\n",
              "      <td>0.000000</td>\n",
              "      <td>0.000000</td>\n",
              "      <td>1.431571e+05</td>\n",
              "      <td>2979.967318</td>\n",
              "      <td>2966.968168</td>\n",
              "      <td>0.000000</td>\n",
              "      <td>48.000000</td>\n",
              "      <td>48.000000</td>\n",
              "      <td>48.000000</td>\n",
              "      <td>1.0</td>\n",
              "    </tr>\n",
              "    <tr>\n",
              "      <th>max</th>\n",
              "      <td>2377.843369</td>\n",
              "      <td>74205.000000</td>\n",
              "      <td>161214.000000</td>\n",
              "      <td>1.754294e+07</td>\n",
              "      <td>9.272950e+07</td>\n",
              "      <td>1500.000000</td>\n",
              "      <td>1024.000000</td>\n",
              "      <td>10260.000000</td>\n",
              "      <td>530.000000</td>\n",
              "      <td>8.158557e+06</td>\n",
              "      <td>27633.061647</td>\n",
              "      <td>19821.852552</td>\n",
              "      <td>11842.740706</td>\n",
              "      <td>1024.000000</td>\n",
              "      <td>10260.000000</td>\n",
              "      <td>1024.000000</td>\n",
              "      <td>1.0</td>\n",
              "    </tr>\n",
              "  </tbody>\n",
              "</table>\n",
              "</div>\n",
              "    <div class=\"colab-df-buttons\">\n",
              "\n",
              "  <div class=\"colab-df-container\">\n",
              "    <button class=\"colab-df-convert\" onclick=\"convertToInteractive('df-6e3ea256-e5d4-4265-ae47-f5389e9c9187')\"\n",
              "            title=\"Convert this dataframe to an interactive table.\"\n",
              "            style=\"display:none;\">\n",
              "\n",
              "  <svg xmlns=\"http://www.w3.org/2000/svg\" height=\"24px\" viewBox=\"0 -960 960 960\">\n",
              "    <path d=\"M120-120v-720h720v720H120Zm60-500h600v-160H180v160Zm220 220h160v-160H400v160Zm0 220h160v-160H400v160ZM180-400h160v-160H180v160Zm440 0h160v-160H620v160ZM180-180h160v-160H180v160Zm440 0h160v-160H620v160Z\"/>\n",
              "  </svg>\n",
              "    </button>\n",
              "\n",
              "  <style>\n",
              "    .colab-df-container {\n",
              "      display:flex;\n",
              "      gap: 12px;\n",
              "    }\n",
              "\n",
              "    .colab-df-convert {\n",
              "      background-color: #E8F0FE;\n",
              "      border: none;\n",
              "      border-radius: 50%;\n",
              "      cursor: pointer;\n",
              "      display: none;\n",
              "      fill: #1967D2;\n",
              "      height: 32px;\n",
              "      padding: 0 0 0 0;\n",
              "      width: 32px;\n",
              "    }\n",
              "\n",
              "    .colab-df-convert:hover {\n",
              "      background-color: #E2EBFA;\n",
              "      box-shadow: 0px 1px 2px rgba(60, 64, 67, 0.3), 0px 1px 3px 1px rgba(60, 64, 67, 0.15);\n",
              "      fill: #174EA6;\n",
              "    }\n",
              "\n",
              "    .colab-df-buttons div {\n",
              "      margin-bottom: 4px;\n",
              "    }\n",
              "\n",
              "    [theme=dark] .colab-df-convert {\n",
              "      background-color: #3B4455;\n",
              "      fill: #D2E3FC;\n",
              "    }\n",
              "\n",
              "    [theme=dark] .colab-df-convert:hover {\n",
              "      background-color: #434B5C;\n",
              "      box-shadow: 0px 1px 3px 1px rgba(0, 0, 0, 0.15);\n",
              "      filter: drop-shadow(0px 1px 2px rgba(0, 0, 0, 0.3));\n",
              "      fill: #FFFFFF;\n",
              "    }\n",
              "  </style>\n",
              "\n",
              "    <script>\n",
              "      const buttonEl =\n",
              "        document.querySelector('#df-6e3ea256-e5d4-4265-ae47-f5389e9c9187 button.colab-df-convert');\n",
              "      buttonEl.style.display =\n",
              "        google.colab.kernel.accessAllowed ? 'block' : 'none';\n",
              "\n",
              "      async function convertToInteractive(key) {\n",
              "        const element = document.querySelector('#df-6e3ea256-e5d4-4265-ae47-f5389e9c9187');\n",
              "        const dataTable =\n",
              "          await google.colab.kernel.invokeFunction('convertToInteractive',\n",
              "                                                    [key], {});\n",
              "        if (!dataTable) return;\n",
              "\n",
              "        const docLinkHtml = 'Like what you see? Visit the ' +\n",
              "          '<a target=\"_blank\" href=https://colab.research.google.com/notebooks/data_table.ipynb>data table notebook</a>'\n",
              "          + ' to learn more about interactive tables.';\n",
              "        element.innerHTML = '';\n",
              "        dataTable['output_type'] = 'display_data';\n",
              "        await google.colab.output.renderOutput(dataTable, element);\n",
              "        const docLink = document.createElement('div');\n",
              "        docLink.innerHTML = docLinkHtml;\n",
              "        element.appendChild(docLink);\n",
              "      }\n",
              "    </script>\n",
              "  </div>\n",
              "\n",
              "\n",
              "<div id=\"df-556a407e-3c40-4f4e-ba2e-a3dd6da06c62\">\n",
              "  <button class=\"colab-df-quickchart\" onclick=\"quickchart('df-556a407e-3c40-4f4e-ba2e-a3dd6da06c62')\"\n",
              "            title=\"Suggest charts\"\n",
              "            style=\"display:none;\">\n",
              "\n",
              "<svg xmlns=\"http://www.w3.org/2000/svg\" height=\"24px\"viewBox=\"0 0 24 24\"\n",
              "     width=\"24px\">\n",
              "    <g>\n",
              "        <path d=\"M19 3H5c-1.1 0-2 .9-2 2v14c0 1.1.9 2 2 2h14c1.1 0 2-.9 2-2V5c0-1.1-.9-2-2-2zM9 17H7v-7h2v7zm4 0h-2V7h2v10zm4 0h-2v-4h2v4z\"/>\n",
              "    </g>\n",
              "</svg>\n",
              "  </button>\n",
              "\n",
              "<style>\n",
              "  .colab-df-quickchart {\n",
              "      --bg-color: #E8F0FE;\n",
              "      --fill-color: #1967D2;\n",
              "      --hover-bg-color: #E2EBFA;\n",
              "      --hover-fill-color: #174EA6;\n",
              "      --disabled-fill-color: #AAA;\n",
              "      --disabled-bg-color: #DDD;\n",
              "  }\n",
              "\n",
              "  [theme=dark] .colab-df-quickchart {\n",
              "      --bg-color: #3B4455;\n",
              "      --fill-color: #D2E3FC;\n",
              "      --hover-bg-color: #434B5C;\n",
              "      --hover-fill-color: #FFFFFF;\n",
              "      --disabled-bg-color: #3B4455;\n",
              "      --disabled-fill-color: #666;\n",
              "  }\n",
              "\n",
              "  .colab-df-quickchart {\n",
              "    background-color: var(--bg-color);\n",
              "    border: none;\n",
              "    border-radius: 50%;\n",
              "    cursor: pointer;\n",
              "    display: none;\n",
              "    fill: var(--fill-color);\n",
              "    height: 32px;\n",
              "    padding: 0;\n",
              "    width: 32px;\n",
              "  }\n",
              "\n",
              "  .colab-df-quickchart:hover {\n",
              "    background-color: var(--hover-bg-color);\n",
              "    box-shadow: 0 1px 2px rgba(60, 64, 67, 0.3), 0 1px 3px 1px rgba(60, 64, 67, 0.15);\n",
              "    fill: var(--button-hover-fill-color);\n",
              "  }\n",
              "\n",
              "  .colab-df-quickchart-complete:disabled,\n",
              "  .colab-df-quickchart-complete:disabled:hover {\n",
              "    background-color: var(--disabled-bg-color);\n",
              "    fill: var(--disabled-fill-color);\n",
              "    box-shadow: none;\n",
              "  }\n",
              "\n",
              "  .colab-df-spinner {\n",
              "    border: 2px solid var(--fill-color);\n",
              "    border-color: transparent;\n",
              "    border-bottom-color: var(--fill-color);\n",
              "    animation:\n",
              "      spin 1s steps(1) infinite;\n",
              "  }\n",
              "\n",
              "  @keyframes spin {\n",
              "    0% {\n",
              "      border-color: transparent;\n",
              "      border-bottom-color: var(--fill-color);\n",
              "      border-left-color: var(--fill-color);\n",
              "    }\n",
              "    20% {\n",
              "      border-color: transparent;\n",
              "      border-left-color: var(--fill-color);\n",
              "      border-top-color: var(--fill-color);\n",
              "    }\n",
              "    30% {\n",
              "      border-color: transparent;\n",
              "      border-left-color: var(--fill-color);\n",
              "      border-top-color: var(--fill-color);\n",
              "      border-right-color: var(--fill-color);\n",
              "    }\n",
              "    40% {\n",
              "      border-color: transparent;\n",
              "      border-right-color: var(--fill-color);\n",
              "      border-top-color: var(--fill-color);\n",
              "    }\n",
              "    60% {\n",
              "      border-color: transparent;\n",
              "      border-right-color: var(--fill-color);\n",
              "    }\n",
              "    80% {\n",
              "      border-color: transparent;\n",
              "      border-right-color: var(--fill-color);\n",
              "      border-bottom-color: var(--fill-color);\n",
              "    }\n",
              "    90% {\n",
              "      border-color: transparent;\n",
              "      border-bottom-color: var(--fill-color);\n",
              "    }\n",
              "  }\n",
              "</style>\n",
              "\n",
              "  <script>\n",
              "    async function quickchart(key) {\n",
              "      const quickchartButtonEl =\n",
              "        document.querySelector('#' + key + ' button');\n",
              "      quickchartButtonEl.disabled = true;  // To prevent multiple clicks.\n",
              "      quickchartButtonEl.classList.add('colab-df-spinner');\n",
              "      try {\n",
              "        const charts = await google.colab.kernel.invokeFunction(\n",
              "            'suggestCharts', [key], {});\n",
              "      } catch (error) {\n",
              "        console.error('Error during call to suggestCharts:', error);\n",
              "      }\n",
              "      quickchartButtonEl.classList.remove('colab-df-spinner');\n",
              "      quickchartButtonEl.classList.add('colab-df-quickchart-complete');\n",
              "    }\n",
              "    (() => {\n",
              "      let quickchartButtonEl =\n",
              "        document.querySelector('#df-556a407e-3c40-4f4e-ba2e-a3dd6da06c62 button');\n",
              "      quickchartButtonEl.style.display =\n",
              "        google.colab.kernel.accessAllowed ? 'block' : 'none';\n",
              "    })();\n",
              "  </script>\n",
              "</div>\n",
              "    </div>\n",
              "  </div>\n"
            ]
          },
          "metadata": {},
          "execution_count": 3
        }
      ]
    },
    {
      "cell_type": "code",
      "source": [
        "normal_data.describe()"
      ],
      "metadata": {
        "colab": {
          "base_uri": "https://localhost:8080/",
          "height": 337
        },
        "id": "FP0O-8AaNysU",
        "outputId": "f2d3202b-799d-412c-90f2-43bb98c8ae8e"
      },
      "execution_count": 4,
      "outputs": [
        {
          "output_type": "execute_result",
          "data": {
            "text/plain": [
              "       Flow Duration   Tot Fwd Pkts   Tot Bwd Pkts  TotLen Fwd Pkts  \\\n",
              "count   22519.000000   22519.000000   22519.000000     2.251900e+04   \n",
              "mean       88.158456     150.227808     217.221058     1.821334e+04   \n",
              "std       368.039498    3380.058580    4894.487376     9.440479e+05   \n",
              "min         0.000000       1.000000       0.000000     3.800000e+01   \n",
              "25%         0.001011       1.000000       0.000000     1.310000e+02   \n",
              "50%         0.136578       4.000000       2.000000     3.160000e+02   \n",
              "75%         4.777398      16.000000      12.000000     1.437000e+03   \n",
              "max      2378.251161  409287.000000  535256.000000     1.260935e+08   \n",
              "\n",
              "       TotLen Bwd Pkts  Fwd Pkt Len Max  Fwd Pkt Len Min  Bwd Pkt Len Max  \\\n",
              "count     2.251900e+04     22519.000000     22519.000000     22519.000000   \n",
              "mean      2.544467e+05       210.706559        75.467605       462.466850   \n",
              "std       6.918956e+06       232.729888        37.456862       656.101609   \n",
              "min       0.000000e+00        36.000000        30.000000         0.000000   \n",
              "25%       0.000000e+00        95.000000        40.000000         0.000000   \n",
              "50%       6.520000e+02       131.000000        70.000000       281.000000   \n",
              "75%       2.108000e+03       155.000000        97.000000       582.000000   \n",
              "max       8.008381e+08      1500.000000       376.000000     19020.000000   \n",
              "\n",
              "       Bwd Pkt Len Min   Flow Byts/s   Flow Pkts/s    Fwd Pkts/s  \\\n",
              "count     22519.000000  2.251900e+04  22519.000000  22519.000000   \n",
              "mean         83.549492  1.498721e+05    423.078356    174.309794   \n",
              "std         114.336585  6.618899e+05   1207.537154    530.379414   \n",
              "min           0.000000  0.000000e+00      0.000000      0.000000   \n",
              "25%           0.000000  1.862360e+01      0.140140      0.075543   \n",
              "50%          40.000000  1.542997e+03      8.514095      4.848951   \n",
              "75%          76.000000  2.531328e+04    207.290823    117.274764   \n",
              "max        1027.000000  1.469656e+07  25995.686293  11998.009058   \n",
              "\n",
              "         Bwd Pkts/s   Pkt Len Min   Pkt Len Max  Pkt Size Avg  Malware  \n",
              "count  22519.000000  22519.000000  22519.000000  22519.000000  22519.0  \n",
              "mean     248.768562     73.454994    566.567743    232.901954      0.0  \n",
              "std      749.164547     36.386804    627.202389    231.718199      0.0  \n",
              "min        0.000000     30.000000     36.000000     36.000000      0.0  \n",
              "25%        0.000000     40.000000    100.000000     83.333333      0.0  \n",
              "50%        2.150700     56.000000    326.000000    133.333333      0.0  \n",
              "75%       88.876260     95.000000    854.000000    261.000000      0.0  \n",
              "max    13997.677235    336.000000  19020.000000   1450.973118      0.0  "
            ],
            "text/html": [
              "\n",
              "  <div id=\"df-5965c075-15dd-4355-9305-b55ea3c57d6a\" class=\"colab-df-container\">\n",
              "    <div>\n",
              "<style scoped>\n",
              "    .dataframe tbody tr th:only-of-type {\n",
              "        vertical-align: middle;\n",
              "    }\n",
              "\n",
              "    .dataframe tbody tr th {\n",
              "        vertical-align: top;\n",
              "    }\n",
              "\n",
              "    .dataframe thead th {\n",
              "        text-align: right;\n",
              "    }\n",
              "</style>\n",
              "<table border=\"1\" class=\"dataframe\">\n",
              "  <thead>\n",
              "    <tr style=\"text-align: right;\">\n",
              "      <th></th>\n",
              "      <th>Flow Duration</th>\n",
              "      <th>Tot Fwd Pkts</th>\n",
              "      <th>Tot Bwd Pkts</th>\n",
              "      <th>TotLen Fwd Pkts</th>\n",
              "      <th>TotLen Bwd Pkts</th>\n",
              "      <th>Fwd Pkt Len Max</th>\n",
              "      <th>Fwd Pkt Len Min</th>\n",
              "      <th>Bwd Pkt Len Max</th>\n",
              "      <th>Bwd Pkt Len Min</th>\n",
              "      <th>Flow Byts/s</th>\n",
              "      <th>Flow Pkts/s</th>\n",
              "      <th>Fwd Pkts/s</th>\n",
              "      <th>Bwd Pkts/s</th>\n",
              "      <th>Pkt Len Min</th>\n",
              "      <th>Pkt Len Max</th>\n",
              "      <th>Pkt Size Avg</th>\n",
              "      <th>Malware</th>\n",
              "    </tr>\n",
              "  </thead>\n",
              "  <tbody>\n",
              "    <tr>\n",
              "      <th>count</th>\n",
              "      <td>22519.000000</td>\n",
              "      <td>22519.000000</td>\n",
              "      <td>22519.000000</td>\n",
              "      <td>2.251900e+04</td>\n",
              "      <td>2.251900e+04</td>\n",
              "      <td>22519.000000</td>\n",
              "      <td>22519.000000</td>\n",
              "      <td>22519.000000</td>\n",
              "      <td>22519.000000</td>\n",
              "      <td>2.251900e+04</td>\n",
              "      <td>22519.000000</td>\n",
              "      <td>22519.000000</td>\n",
              "      <td>22519.000000</td>\n",
              "      <td>22519.000000</td>\n",
              "      <td>22519.000000</td>\n",
              "      <td>22519.000000</td>\n",
              "      <td>22519.0</td>\n",
              "    </tr>\n",
              "    <tr>\n",
              "      <th>mean</th>\n",
              "      <td>88.158456</td>\n",
              "      <td>150.227808</td>\n",
              "      <td>217.221058</td>\n",
              "      <td>1.821334e+04</td>\n",
              "      <td>2.544467e+05</td>\n",
              "      <td>210.706559</td>\n",
              "      <td>75.467605</td>\n",
              "      <td>462.466850</td>\n",
              "      <td>83.549492</td>\n",
              "      <td>1.498721e+05</td>\n",
              "      <td>423.078356</td>\n",
              "      <td>174.309794</td>\n",
              "      <td>248.768562</td>\n",
              "      <td>73.454994</td>\n",
              "      <td>566.567743</td>\n",
              "      <td>232.901954</td>\n",
              "      <td>0.0</td>\n",
              "    </tr>\n",
              "    <tr>\n",
              "      <th>std</th>\n",
              "      <td>368.039498</td>\n",
              "      <td>3380.058580</td>\n",
              "      <td>4894.487376</td>\n",
              "      <td>9.440479e+05</td>\n",
              "      <td>6.918956e+06</td>\n",
              "      <td>232.729888</td>\n",
              "      <td>37.456862</td>\n",
              "      <td>656.101609</td>\n",
              "      <td>114.336585</td>\n",
              "      <td>6.618899e+05</td>\n",
              "      <td>1207.537154</td>\n",
              "      <td>530.379414</td>\n",
              "      <td>749.164547</td>\n",
              "      <td>36.386804</td>\n",
              "      <td>627.202389</td>\n",
              "      <td>231.718199</td>\n",
              "      <td>0.0</td>\n",
              "    </tr>\n",
              "    <tr>\n",
              "      <th>min</th>\n",
              "      <td>0.000000</td>\n",
              "      <td>1.000000</td>\n",
              "      <td>0.000000</td>\n",
              "      <td>3.800000e+01</td>\n",
              "      <td>0.000000e+00</td>\n",
              "      <td>36.000000</td>\n",
              "      <td>30.000000</td>\n",
              "      <td>0.000000</td>\n",
              "      <td>0.000000</td>\n",
              "      <td>0.000000e+00</td>\n",
              "      <td>0.000000</td>\n",
              "      <td>0.000000</td>\n",
              "      <td>0.000000</td>\n",
              "      <td>30.000000</td>\n",
              "      <td>36.000000</td>\n",
              "      <td>36.000000</td>\n",
              "      <td>0.0</td>\n",
              "    </tr>\n",
              "    <tr>\n",
              "      <th>25%</th>\n",
              "      <td>0.001011</td>\n",
              "      <td>1.000000</td>\n",
              "      <td>0.000000</td>\n",
              "      <td>1.310000e+02</td>\n",
              "      <td>0.000000e+00</td>\n",
              "      <td>95.000000</td>\n",
              "      <td>40.000000</td>\n",
              "      <td>0.000000</td>\n",
              "      <td>0.000000</td>\n",
              "      <td>1.862360e+01</td>\n",
              "      <td>0.140140</td>\n",
              "      <td>0.075543</td>\n",
              "      <td>0.000000</td>\n",
              "      <td>40.000000</td>\n",
              "      <td>100.000000</td>\n",
              "      <td>83.333333</td>\n",
              "      <td>0.0</td>\n",
              "    </tr>\n",
              "    <tr>\n",
              "      <th>50%</th>\n",
              "      <td>0.136578</td>\n",
              "      <td>4.000000</td>\n",
              "      <td>2.000000</td>\n",
              "      <td>3.160000e+02</td>\n",
              "      <td>6.520000e+02</td>\n",
              "      <td>131.000000</td>\n",
              "      <td>70.000000</td>\n",
              "      <td>281.000000</td>\n",
              "      <td>40.000000</td>\n",
              "      <td>1.542997e+03</td>\n",
              "      <td>8.514095</td>\n",
              "      <td>4.848951</td>\n",
              "      <td>2.150700</td>\n",
              "      <td>56.000000</td>\n",
              "      <td>326.000000</td>\n",
              "      <td>133.333333</td>\n",
              "      <td>0.0</td>\n",
              "    </tr>\n",
              "    <tr>\n",
              "      <th>75%</th>\n",
              "      <td>4.777398</td>\n",
              "      <td>16.000000</td>\n",
              "      <td>12.000000</td>\n",
              "      <td>1.437000e+03</td>\n",
              "      <td>2.108000e+03</td>\n",
              "      <td>155.000000</td>\n",
              "      <td>97.000000</td>\n",
              "      <td>582.000000</td>\n",
              "      <td>76.000000</td>\n",
              "      <td>2.531328e+04</td>\n",
              "      <td>207.290823</td>\n",
              "      <td>117.274764</td>\n",
              "      <td>88.876260</td>\n",
              "      <td>95.000000</td>\n",
              "      <td>854.000000</td>\n",
              "      <td>261.000000</td>\n",
              "      <td>0.0</td>\n",
              "    </tr>\n",
              "    <tr>\n",
              "      <th>max</th>\n",
              "      <td>2378.251161</td>\n",
              "      <td>409287.000000</td>\n",
              "      <td>535256.000000</td>\n",
              "      <td>1.260935e+08</td>\n",
              "      <td>8.008381e+08</td>\n",
              "      <td>1500.000000</td>\n",
              "      <td>376.000000</td>\n",
              "      <td>19020.000000</td>\n",
              "      <td>1027.000000</td>\n",
              "      <td>1.469656e+07</td>\n",
              "      <td>25995.686293</td>\n",
              "      <td>11998.009058</td>\n",
              "      <td>13997.677235</td>\n",
              "      <td>336.000000</td>\n",
              "      <td>19020.000000</td>\n",
              "      <td>1450.973118</td>\n",
              "      <td>0.0</td>\n",
              "    </tr>\n",
              "  </tbody>\n",
              "</table>\n",
              "</div>\n",
              "    <div class=\"colab-df-buttons\">\n",
              "\n",
              "  <div class=\"colab-df-container\">\n",
              "    <button class=\"colab-df-convert\" onclick=\"convertToInteractive('df-5965c075-15dd-4355-9305-b55ea3c57d6a')\"\n",
              "            title=\"Convert this dataframe to an interactive table.\"\n",
              "            style=\"display:none;\">\n",
              "\n",
              "  <svg xmlns=\"http://www.w3.org/2000/svg\" height=\"24px\" viewBox=\"0 -960 960 960\">\n",
              "    <path d=\"M120-120v-720h720v720H120Zm60-500h600v-160H180v160Zm220 220h160v-160H400v160Zm0 220h160v-160H400v160ZM180-400h160v-160H180v160Zm440 0h160v-160H620v160ZM180-180h160v-160H180v160Zm440 0h160v-160H620v160Z\"/>\n",
              "  </svg>\n",
              "    </button>\n",
              "\n",
              "  <style>\n",
              "    .colab-df-container {\n",
              "      display:flex;\n",
              "      gap: 12px;\n",
              "    }\n",
              "\n",
              "    .colab-df-convert {\n",
              "      background-color: #E8F0FE;\n",
              "      border: none;\n",
              "      border-radius: 50%;\n",
              "      cursor: pointer;\n",
              "      display: none;\n",
              "      fill: #1967D2;\n",
              "      height: 32px;\n",
              "      padding: 0 0 0 0;\n",
              "      width: 32px;\n",
              "    }\n",
              "\n",
              "    .colab-df-convert:hover {\n",
              "      background-color: #E2EBFA;\n",
              "      box-shadow: 0px 1px 2px rgba(60, 64, 67, 0.3), 0px 1px 3px 1px rgba(60, 64, 67, 0.15);\n",
              "      fill: #174EA6;\n",
              "    }\n",
              "\n",
              "    .colab-df-buttons div {\n",
              "      margin-bottom: 4px;\n",
              "    }\n",
              "\n",
              "    [theme=dark] .colab-df-convert {\n",
              "      background-color: #3B4455;\n",
              "      fill: #D2E3FC;\n",
              "    }\n",
              "\n",
              "    [theme=dark] .colab-df-convert:hover {\n",
              "      background-color: #434B5C;\n",
              "      box-shadow: 0px 1px 3px 1px rgba(0, 0, 0, 0.15);\n",
              "      filter: drop-shadow(0px 1px 2px rgba(0, 0, 0, 0.3));\n",
              "      fill: #FFFFFF;\n",
              "    }\n",
              "  </style>\n",
              "\n",
              "    <script>\n",
              "      const buttonEl =\n",
              "        document.querySelector('#df-5965c075-15dd-4355-9305-b55ea3c57d6a button.colab-df-convert');\n",
              "      buttonEl.style.display =\n",
              "        google.colab.kernel.accessAllowed ? 'block' : 'none';\n",
              "\n",
              "      async function convertToInteractive(key) {\n",
              "        const element = document.querySelector('#df-5965c075-15dd-4355-9305-b55ea3c57d6a');\n",
              "        const dataTable =\n",
              "          await google.colab.kernel.invokeFunction('convertToInteractive',\n",
              "                                                    [key], {});\n",
              "        if (!dataTable) return;\n",
              "\n",
              "        const docLinkHtml = 'Like what you see? Visit the ' +\n",
              "          '<a target=\"_blank\" href=https://colab.research.google.com/notebooks/data_table.ipynb>data table notebook</a>'\n",
              "          + ' to learn more about interactive tables.';\n",
              "        element.innerHTML = '';\n",
              "        dataTable['output_type'] = 'display_data';\n",
              "        await google.colab.output.renderOutput(dataTable, element);\n",
              "        const docLink = document.createElement('div');\n",
              "        docLink.innerHTML = docLinkHtml;\n",
              "        element.appendChild(docLink);\n",
              "      }\n",
              "    </script>\n",
              "  </div>\n",
              "\n",
              "\n",
              "<div id=\"df-b141008e-e9b4-4f6b-b85f-3713162bd0f8\">\n",
              "  <button class=\"colab-df-quickchart\" onclick=\"quickchart('df-b141008e-e9b4-4f6b-b85f-3713162bd0f8')\"\n",
              "            title=\"Suggest charts\"\n",
              "            style=\"display:none;\">\n",
              "\n",
              "<svg xmlns=\"http://www.w3.org/2000/svg\" height=\"24px\"viewBox=\"0 0 24 24\"\n",
              "     width=\"24px\">\n",
              "    <g>\n",
              "        <path d=\"M19 3H5c-1.1 0-2 .9-2 2v14c0 1.1.9 2 2 2h14c1.1 0 2-.9 2-2V5c0-1.1-.9-2-2-2zM9 17H7v-7h2v7zm4 0h-2V7h2v10zm4 0h-2v-4h2v4z\"/>\n",
              "    </g>\n",
              "</svg>\n",
              "  </button>\n",
              "\n",
              "<style>\n",
              "  .colab-df-quickchart {\n",
              "      --bg-color: #E8F0FE;\n",
              "      --fill-color: #1967D2;\n",
              "      --hover-bg-color: #E2EBFA;\n",
              "      --hover-fill-color: #174EA6;\n",
              "      --disabled-fill-color: #AAA;\n",
              "      --disabled-bg-color: #DDD;\n",
              "  }\n",
              "\n",
              "  [theme=dark] .colab-df-quickchart {\n",
              "      --bg-color: #3B4455;\n",
              "      --fill-color: #D2E3FC;\n",
              "      --hover-bg-color: #434B5C;\n",
              "      --hover-fill-color: #FFFFFF;\n",
              "      --disabled-bg-color: #3B4455;\n",
              "      --disabled-fill-color: #666;\n",
              "  }\n",
              "\n",
              "  .colab-df-quickchart {\n",
              "    background-color: var(--bg-color);\n",
              "    border: none;\n",
              "    border-radius: 50%;\n",
              "    cursor: pointer;\n",
              "    display: none;\n",
              "    fill: var(--fill-color);\n",
              "    height: 32px;\n",
              "    padding: 0;\n",
              "    width: 32px;\n",
              "  }\n",
              "\n",
              "  .colab-df-quickchart:hover {\n",
              "    background-color: var(--hover-bg-color);\n",
              "    box-shadow: 0 1px 2px rgba(60, 64, 67, 0.3), 0 1px 3px 1px rgba(60, 64, 67, 0.15);\n",
              "    fill: var(--button-hover-fill-color);\n",
              "  }\n",
              "\n",
              "  .colab-df-quickchart-complete:disabled,\n",
              "  .colab-df-quickchart-complete:disabled:hover {\n",
              "    background-color: var(--disabled-bg-color);\n",
              "    fill: var(--disabled-fill-color);\n",
              "    box-shadow: none;\n",
              "  }\n",
              "\n",
              "  .colab-df-spinner {\n",
              "    border: 2px solid var(--fill-color);\n",
              "    border-color: transparent;\n",
              "    border-bottom-color: var(--fill-color);\n",
              "    animation:\n",
              "      spin 1s steps(1) infinite;\n",
              "  }\n",
              "\n",
              "  @keyframes spin {\n",
              "    0% {\n",
              "      border-color: transparent;\n",
              "      border-bottom-color: var(--fill-color);\n",
              "      border-left-color: var(--fill-color);\n",
              "    }\n",
              "    20% {\n",
              "      border-color: transparent;\n",
              "      border-left-color: var(--fill-color);\n",
              "      border-top-color: var(--fill-color);\n",
              "    }\n",
              "    30% {\n",
              "      border-color: transparent;\n",
              "      border-left-color: var(--fill-color);\n",
              "      border-top-color: var(--fill-color);\n",
              "      border-right-color: var(--fill-color);\n",
              "    }\n",
              "    40% {\n",
              "      border-color: transparent;\n",
              "      border-right-color: var(--fill-color);\n",
              "      border-top-color: var(--fill-color);\n",
              "    }\n",
              "    60% {\n",
              "      border-color: transparent;\n",
              "      border-right-color: var(--fill-color);\n",
              "    }\n",
              "    80% {\n",
              "      border-color: transparent;\n",
              "      border-right-color: var(--fill-color);\n",
              "      border-bottom-color: var(--fill-color);\n",
              "    }\n",
              "    90% {\n",
              "      border-color: transparent;\n",
              "      border-bottom-color: var(--fill-color);\n",
              "    }\n",
              "  }\n",
              "</style>\n",
              "\n",
              "  <script>\n",
              "    async function quickchart(key) {\n",
              "      const quickchartButtonEl =\n",
              "        document.querySelector('#' + key + ' button');\n",
              "      quickchartButtonEl.disabled = true;  // To prevent multiple clicks.\n",
              "      quickchartButtonEl.classList.add('colab-df-spinner');\n",
              "      try {\n",
              "        const charts = await google.colab.kernel.invokeFunction(\n",
              "            'suggestCharts', [key], {});\n",
              "      } catch (error) {\n",
              "        console.error('Error during call to suggestCharts:', error);\n",
              "      }\n",
              "      quickchartButtonEl.classList.remove('colab-df-spinner');\n",
              "      quickchartButtonEl.classList.add('colab-df-quickchart-complete');\n",
              "    }\n",
              "    (() => {\n",
              "      let quickchartButtonEl =\n",
              "        document.querySelector('#df-b141008e-e9b4-4f6b-b85f-3713162bd0f8 button');\n",
              "      quickchartButtonEl.style.display =\n",
              "        google.colab.kernel.accessAllowed ? 'block' : 'none';\n",
              "    })();\n",
              "  </script>\n",
              "</div>\n",
              "    </div>\n",
              "  </div>\n"
            ]
          },
          "metadata": {},
          "execution_count": 4
        }
      ]
    },
    {
      "cell_type": "code",
      "source": [
        "attack_data.isnull().sum()"
      ],
      "metadata": {
        "colab": {
          "base_uri": "https://localhost:8080/"
        },
        "id": "fjcq7dJqN3XY",
        "outputId": "fbbec4ea-3b6f-4f31-ae96-306fc6eda591"
      },
      "execution_count": 5,
      "outputs": [
        {
          "output_type": "execute_result",
          "data": {
            "text/plain": [
              "Flow Duration      0\n",
              "Tot Fwd Pkts       0\n",
              "Tot Bwd Pkts       0\n",
              "TotLen Fwd Pkts    0\n",
              "TotLen Bwd Pkts    0\n",
              "Fwd Pkt Len Max    0\n",
              "Fwd Pkt Len Min    0\n",
              "Bwd Pkt Len Max    0\n",
              "Bwd Pkt Len Min    0\n",
              "Flow Byts/s        0\n",
              "Flow Pkts/s        0\n",
              "Fwd Pkts/s         0\n",
              "Bwd Pkts/s         0\n",
              "Bwd/Fwd Ratio      0\n",
              "Pkt Len Min        0\n",
              "Pkt Len Max        0\n",
              "Pkt Size Avg       0\n",
              "Malware            0\n",
              "dtype: int64"
            ]
          },
          "metadata": {},
          "execution_count": 5
        }
      ]
    },
    {
      "cell_type": "code",
      "source": [
        "normal_data.isnull().sum()"
      ],
      "metadata": {
        "colab": {
          "base_uri": "https://localhost:8080/"
        },
        "id": "_DupZindY2JH",
        "outputId": "a7be6490-67ac-4827-8306-b6a55765410c"
      },
      "execution_count": 6,
      "outputs": [
        {
          "output_type": "execute_result",
          "data": {
            "text/plain": [
              "Flow Duration      0\n",
              "Tot Fwd Pkts       0\n",
              "Tot Bwd Pkts       0\n",
              "TotLen Fwd Pkts    0\n",
              "TotLen Bwd Pkts    0\n",
              "Fwd Pkt Len Max    0\n",
              "Fwd Pkt Len Min    0\n",
              "Bwd Pkt Len Max    0\n",
              "Bwd Pkt Len Min    0\n",
              "Flow Byts/s        0\n",
              "Flow Pkts/s        0\n",
              "Fwd Pkts/s         0\n",
              "Bwd Pkts/s         0\n",
              "Bwd/Fwd Ratio      0\n",
              "Pkt Len Min        0\n",
              "Pkt Len Max        0\n",
              "Pkt Size Avg       0\n",
              "Malware            0\n",
              "dtype: int64"
            ]
          },
          "metadata": {},
          "execution_count": 6
        }
      ]
    },
    {
      "cell_type": "markdown",
      "source": [
        "Гистограммы"
      ],
      "metadata": {
        "id": "6V0IRpJYw39x"
      }
    },
    {
      "cell_type": "code",
      "source": [
        "sns.histplot(x=\"Flow Duration\", data = attack_data, color=\"#FF0000\")\n",
        "sns.histplot(x=\"Flow Duration\", data = normal_data, color=\"#008000\")\n",
        "plt.show()"
      ],
      "metadata": {
        "id": "dW8t5sKWeCYL"
      },
      "execution_count": null,
      "outputs": []
    },
    {
      "cell_type": "code",
      "source": [
        "sns.histplot(x=\"Tot Fwd Pkts\", data = attack_data, color=\"#FF0000\")\n",
        "sns.histplot(x=\"Tot Fwd Pkts\", data = normal_data, color=\"#008000\")\n",
        "plt.show()"
      ],
      "metadata": {
        "id": "0VHy6llKjCLS"
      },
      "execution_count": null,
      "outputs": []
    },
    {
      "cell_type": "code",
      "source": [
        "sns.histplot(x=\"Tot Bwd Pkts\", data = attack_data, color=\"#FF0000\")\n",
        "sns.histplot(x=\"Tot Bwd Pkts\", data = normal_data, color=\"#008000\")\n",
        "plt.show()"
      ],
      "metadata": {
        "id": "jdmsOmI9jugV"
      },
      "execution_count": null,
      "outputs": []
    },
    {
      "cell_type": "code",
      "source": [
        "sns.histplot(x=\"TotLen Fwd Pkts\", data = attack_data, color=\"#FF0000\")\n",
        "sns.histplot(x=\"TotLen Fwd Pkts\", data = normal_data, color=\"#008000\")\n",
        "plt.show()"
      ],
      "metadata": {
        "id": "-t8daqwFj5WJ"
      },
      "execution_count": null,
      "outputs": []
    },
    {
      "cell_type": "code",
      "source": [
        "sns.histplot(x=\"TotLen Bwd Pkts\", data = attack_data, color=\"#FF0000\")\n",
        "sns.histplot(x=\"TotLen Bwd Pkts\", data = normal_data, color=\"#008000\")\n",
        "plt.show()"
      ],
      "metadata": {
        "id": "sQFzWCm2kFdu"
      },
      "execution_count": null,
      "outputs": []
    },
    {
      "cell_type": "code",
      "source": [
        "sns.histplot(x=\"Fwd Pkt Len Max\", data = attack_data, color=\"#FF0000\")\n",
        "sns.histplot(x=\"Fwd Pkt Len Max\", data = normal_data, color=\"#008000\")\n",
        "plt.show()"
      ],
      "metadata": {
        "id": "FV7b3dlIaU7H",
        "colab": {
          "base_uri": "https://localhost:8080/",
          "height": 449
        },
        "outputId": "d807b353-d125-476c-a260-4f0c073c7845"
      },
      "execution_count": 6,
      "outputs": [
        {
          "output_type": "display_data",
          "data": {
            "text/plain": [
              "<Figure size 640x480 with 1 Axes>"
            ],
            "image/png": "[encoded data removed]"
          },
          "metadata": {}
        }
      ]
    },
    {
      "cell_type": "code",
      "source": [
        "sns.histplot(x=\"Fwd Pkt Len Min\", data = attack_data, color=\"#FF0000\")\n",
        "sns.histplot(x=\"Fwd Pkt Len Min\", data = normal_data, color=\"#008000\")\n",
        "plt.show()"
      ],
      "metadata": {
        "colab": {
          "base_uri": "https://localhost:8080/",
          "height": 449
        },
        "id": "VLIjaI6fkRFa",
        "outputId": "f5ade992-639e-464e-fa6a-bd66508c3ca7"
      },
      "execution_count": 11,
      "outputs": [
        {
          "output_type": "display_data",
          "data": {
            "text/plain": [
              "<Figure size 640x480 with 1 Axes>"
            ],
            "image/png": "[encoded data removed]"
          },
          "metadata": {}
        }
      ]
    },
    {
      "cell_type": "code",
      "source": [
        "sns.histplot(x=\"Bwd Pkt Len Max\", data = attack_data, color=\"#FF0000\")\n",
        "sns.histplot(x=\"Bwd Pkt Len Max\", data = normal_data, color=\"#008000\")\n",
        "plt.show()"
      ],
      "metadata": {
        "colab": {
          "base_uri": "https://localhost:8080/",
          "height": 449
        },
        "id": "kJrh4ZQ8kczV",
        "outputId": "8b35517e-795a-4222-a095-c898d824a954"
      },
      "execution_count": 12,
      "outputs": [
        {
          "output_type": "display_data",
          "data": {
            "text/plain": [
              "<Figure size 640x480 with 1 Axes>"
            ],
            "image/png": "[encoded data removed]"
          },
          "metadata": {}
        }
      ]
    },
    {
      "cell_type": "code",
      "source": [
        "sns.histplot(x=\"Bwd Pkt Len Min\", data = attack_data, color=\"#FF0000\")\n",
        "sns.histplot(x=\"Bwd Pkt Len Min\", data = normal_data, color=\"#008000\")\n",
        "plt.show()"
      ],
      "metadata": {
        "colab": {
          "base_uri": "https://localhost:8080/",
          "height": 449
        },
        "id": "RHZt5VOtkj3V",
        "outputId": "cd8ed3b0-20fc-4873-8ec7-72797330591d"
      },
      "execution_count": 13,
      "outputs": [
        {
          "output_type": "display_data",
          "data": {
            "text/plain": [
              "<Figure size 640x480 with 1 Axes>"
            ],
            "image/png": "[encoded data removed]"
          },
          "metadata": {}
        }
      ]
    },
    {
      "cell_type": "code",
      "source": [
        "sns.histplot(x=\"Flow Byts/s\", data = attack_data, color=\"#FF0000\")\n",
        "sns.histplot(x=\"Flow Byts/s\", data = normal_data, color=\"#008000\")\n",
        "plt.ylim([0, 2600])\n",
        "plt.show()"
      ],
      "metadata": {
        "colab": {
          "base_uri": "https://localhost:8080/",
          "height": 449
        },
        "id": "jObSxnhKkqRt",
        "outputId": "71d77561-13b5-46f1-ecf0-634fd0bbabe1"
      },
      "execution_count": 28,
      "outputs": [
        {
          "output_type": "display_data",
          "data": {
            "text/plain": [
              "<Figure size 640x480 with 1 Axes>"
            ],
            "image/png": "[encoded data removed]"
          },
          "metadata": {}
        }
      ]
    },
    {
      "cell_type": "code",
      "source": [
        "sns.histplot(x=\"Flow Pkts/s\", data = attack_data, color=\"#FF0000\")\n",
        "sns.histplot(x=\"Flow Pkts/s\", data = normal_data, color=\"#008000\")\n",
        "plt.ylim([0, 5000])\n",
        "plt.show()"
      ],
      "metadata": {
        "colab": {
          "base_uri": "https://localhost:8080/",
          "height": 455
        },
        "id": "HNgWFwP9kzNh",
        "outputId": "36c441dc-71a3-4c91-bfa8-109e78630c30"
      },
      "execution_count": 30,
      "outputs": [
        {
          "output_type": "display_data",
          "data": {
            "text/plain": [
              "<Figure size 640x480 with 1 Axes>"
            ],
            "image/png": "[encoded data removed]"
          },
          "metadata": {}
        }
      ]
    },
    {
      "cell_type": "code",
      "source": [
        "sns.histplot(x=\"Fwd Pkts/s\", data = attack_data, color=\"#FF0000\")\n",
        "sns.histplot(x=\"Fwd Pkts/s\", data = normal_data, color=\"#008000\")\n",
        "plt.ylim([0, 6000])\n",
        "plt.show()"
      ],
      "metadata": {
        "colab": {
          "base_uri": "https://localhost:8080/",
          "height": 455
        },
        "id": "H7CsUquum7XP",
        "outputId": "252c9cb7-7b37-4e2b-dce3-6314b8c2d381"
      },
      "execution_count": 32,
      "outputs": [
        {
          "output_type": "display_data",
          "data": {
            "text/plain": [
              "<Figure size 640x480 with 1 Axes>"
            ],
            "image/png": "[encoded data removed]"
          },
          "metadata": {}
        }
      ]
    },
    {
      "cell_type": "code",
      "source": [
        "sns.histplot(x=\"Bwd Pkts/s\", data = attack_data, color=\"#FF0000\")\n",
        "sns.histplot(x=\"Bwd Pkts/s\", data = normal_data, color=\"#008000\")\n",
        "plt.show()"
      ],
      "metadata": {
        "colab": {
          "base_uri": "https://localhost:8080/",
          "height": 449
        },
        "id": "ufNwEBaEnWHm",
        "outputId": "eb1124b1-afa2-4620-f29e-495f253c4e6d"
      },
      "execution_count": 33,
      "outputs": [
        {
          "output_type": "display_data",
          "data": {
            "text/plain": [
              "<Figure size 640x480 with 1 Axes>"
            ],
            "image/png": "[encoded data removed]"
          },
          "metadata": {}
        }
      ]
    },
    {
      "cell_type": "code",
      "source": [
        "sns.histplot(x=\"Bwd/Fwd Ratio\", data = attack_data, color=\"#FF0000\")\n",
        "sns.histplot(x=\"Bwd/Fwd Ratio\", data = normal_data, color=\"#008000\")\n",
        "plt.ylim([0, 100])\n",
        "plt.show()"
      ],
      "metadata": {
        "colab": {
          "base_uri": "https://localhost:8080/",
          "height": 455
        },
        "id": "FPlD9EfknfsK",
        "outputId": "ecf05232-e9e1-4144-a1d4-57f5a83e712b"
      },
      "execution_count": 57,
      "outputs": [
        {
          "output_type": "display_data",
          "data": {
            "text/plain": [
              "<Figure size 640x480 with 1 Axes>"
            ],
            "image/png": "[encoded data removed]"
          },
          "metadata": {}
        }
      ]
    },
    {
      "cell_type": "code",
      "source": [
        "sns.histplot(x=\"Pkt Len Min\", data = attack_data, color=\"#FF0000\")\n",
        "sns.histplot(x=\"Pkt Len Min\", data = normal_data, color=\"#008000\")\n",
        "plt.show()"
      ],
      "metadata": {
        "colab": {
          "base_uri": "https://localhost:8080/",
          "height": 449
        },
        "id": "Pv0XmT0kwaFv",
        "outputId": "827ad0e6-f3fe-4ab9-cdbe-bf63a92567e8"
      },
      "execution_count": 58,
      "outputs": [
        {
          "output_type": "display_data",
          "data": {
            "text/plain": [
              "<Figure size 640x480 with 1 Axes>"
            ],
            "image/png": "[encoded data removed]"
          },
          "metadata": {}
        }
      ]
    },
    {
      "cell_type": "code",
      "source": [
        "sns.histplot(x=\"Pkt Len Max\", data = attack_data, color=\"#FF0000\")\n",
        "sns.histplot(x=\"Pkt Len Max\", data = normal_data, color=\"#008000\")\n",
        "plt.show()"
      ],
      "metadata": {
        "colab": {
          "base_uri": "https://localhost:8080/",
          "height": 449
        },
        "id": "bFEH9_ZuwkoC",
        "outputId": "819ba287-6336-4590-ceee-d6c45085377e"
      },
      "execution_count": 59,
      "outputs": [
        {
          "output_type": "display_data",
          "data": {
            "text/plain": [
              "<Figure size 640x480 with 1 Axes>"
            ],
            "image/png": "[encoded data removed]"
          },
          "metadata": {}
        }
      ]
    },
    {
      "cell_type": "code",
      "source": [
        "sns.histplot(x=\"Pkt Size Avg\", data = attack_data, color=\"#FF0000\")\n",
        "sns.histplot(x=\"Pkt Size Avg\", data = normal_data, color=\"#008000\")\n",
        "plt.show()"
      ],
      "metadata": {
        "colab": {
          "base_uri": "https://localhost:8080/",
          "height": 449
        },
        "id": "d6A8e1Adwqvt",
        "outputId": "9f69dead-c6b1-4c8b-e188-5036925beb1a"
      },
      "execution_count": 60,
      "outputs": [
        {
          "output_type": "display_data",
          "data": {
            "text/plain": [
              "<Figure size 640x480 with 1 Axes>"
            ],
            "image/png": "[encoded data removed]"
          },
          "metadata": {}
        }
      ]
    },
    {
      "cell_type": "markdown",
      "source": [
        "Корреляция"
      ],
      "metadata": {
        "id": "0J1moCkJwxjM"
      }
    },
    {
      "cell_type": "code",
      "source": [
        "print(attack_data['Tot Fwd Pkts'].corr(attack_data[\"Tot Bwd Pkts\"]))"
      ],
      "metadata": {
        "colab": {
          "base_uri": "https://localhost:8080/"
        },
        "id": "PWUoRqJOwx6s",
        "outputId": "f87e2149-1f37-4159-b76d-cedc0cdb4174"
      },
      "execution_count": 61,
      "outputs": [
        {
          "output_type": "stream",
          "name": "stdout",
          "text": [
            "0.8915921767136336\n"
          ]
        }
      ]
    },
    {
      "cell_type": "code",
      "source": [
        "print(attack_data['TotLen Fwd Pkts'].corr(attack_data[\"TotLen Bwd Pkts\"]))"
      ],
      "metadata": {
        "colab": {
          "base_uri": "https://localhost:8080/"
        },
        "id": "KgYyQolUxPnw",
        "outputId": "f53901b4-2c8d-4a5a-baf1-97e7c82e574a"
      },
      "execution_count": 62,
      "outputs": [
        {
          "output_type": "stream",
          "name": "stdout",
          "text": [
            "0.47489211986138935\n"
          ]
        }
      ]
    },
    {
      "cell_type": "code",
      "source": [
        "print(attack_data['Fwd Pkt Len Max'].corr(attack_data[\"Bwd Pkt Len Max\"]))"
      ],
      "metadata": {
        "colab": {
          "base_uri": "https://localhost:8080/"
        },
        "id": "P5Hb0mD0xazQ",
        "outputId": "88391edd-746a-424c-9c7a-b61576a4c9fc"
      },
      "execution_count": 64,
      "outputs": [
        {
          "output_type": "stream",
          "name": "stdout",
          "text": [
            "0.6080973684666391\n"
          ]
        }
      ]
    },
    {
      "cell_type": "code",
      "source": [
        "print(attack_data['Fwd Pkt Len Min'].corr(attack_data[\"Bwd Pkt Len Min\"]))"
      ],
      "metadata": {
        "colab": {
          "base_uri": "https://localhost:8080/"
        },
        "id": "jn2bkZ3Wxgtz",
        "outputId": "43ae8bd9-d647-4f77-87b7-b1fe2ba6b3b0"
      },
      "execution_count": 65,
      "outputs": [
        {
          "output_type": "stream",
          "name": "stdout",
          "text": [
            "0.20010661878231253\n"
          ]
        }
      ]
    },
    {
      "cell_type": "code",
      "source": [
        "print(attack_data['Flow Pkts/s'].corr(attack_data[\"Flow Byts/s\"]))"
      ],
      "metadata": {
        "colab": {
          "base_uri": "https://localhost:8080/"
        },
        "id": "9bQWZm3rxuT0",
        "outputId": "c8713f84-250f-498f-b53c-8efd9666e545"
      },
      "execution_count": 66,
      "outputs": [
        {
          "output_type": "stream",
          "name": "stdout",
          "text": [
            "0.8540910200515348\n"
          ]
        }
      ]
    },
    {
      "cell_type": "code",
      "source": [
        "print(attack_data['Fwd Pkts/s'].corr(attack_data[\"Bwd Pkts/s\"]))"
      ],
      "metadata": {
        "colab": {
          "base_uri": "https://localhost:8080/"
        },
        "id": "Pmv2xyoDx2P_",
        "outputId": "eb6aa2ad-8d86-42e2-b048-c3c539e77291"
      },
      "execution_count": 67,
      "outputs": [
        {
          "output_type": "stream",
          "name": "stdout",
          "text": [
            "0.4344148516292465\n"
          ]
        }
      ]
    }
  ]
}